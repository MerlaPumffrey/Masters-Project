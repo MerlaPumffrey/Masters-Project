{
 "cells": [
  {
   "cell_type": "code",
   "execution_count": 2,
   "id": "86036bf5-9b39-4b8f-b3d8-1d2bb4553875",
   "metadata": {},
   "outputs": [],
   "source": [
    "import pandas as pd"
   ]
  },
  {
   "cell_type": "code",
   "execution_count": 57,
   "id": "14cb479d-0f5e-431b-9c52-e9f04941cc12",
   "metadata": {},
   "outputs": [
    {
     "name": "stderr",
     "output_type": "stream",
     "text": [
      "/Users/jordannelson/anaconda3/lib/python3.11/site-packages/openpyxl/worksheet/_read_only.py:79: UserWarning: Cell A6183 is marked as a date but the serial value 60210000 is outside the limits for dates. The cell will be treated as an error.\n",
      "  for idx, row in parser.parse():\n",
      "/Users/jordannelson/anaconda3/lib/python3.11/site-packages/openpyxl/worksheet/_read_only.py:79: UserWarning: Cell A6422 is marked as a date but the serial value 70680000 is outside the limits for dates. The cell will be treated as an error.\n",
      "  for idx, row in parser.parse():\n",
      "/Users/jordannelson/anaconda3/lib/python3.11/site-packages/openpyxl/worksheet/_read_only.py:79: UserWarning: Cell A6423 is marked as a date but the serial value 60240000 is outside the limits for dates. The cell will be treated as an error.\n",
      "  for idx, row in parser.parse():\n"
     ]
    }
   ],
   "source": [
    "# Load the dataset\n",
    "file_path = '/Users/jordannelson/Documents/OneDrive - UWE Bristol Merla Pumffrey/Masters Project/Data/Renewable Planning Database.xlsx'\n",
    "df = pd.read_excel(file_path, sheet_name='REPD') \n",
    "filtered_df = df[['Ref ID', 'Technology Type', 'Installed Capacity (MWelec)', \n",
    "                  'Development Status (short)', 'Region', \n",
    "                  'Planning Permission Granted', 'Under Construction', \n",
    "                  'Operational']]"
   ]
  },
  {
   "cell_type": "code",
   "execution_count": 58,
   "id": "459daa21-b056-4a56-bf03-502d31f3aed1",
   "metadata": {},
   "outputs": [
    {
     "name": "stdout",
     "output_type": "stream",
     "text": [
      "   Ref ID      Technology Type Installed Capacity (MWelec)  \\\n",
      "0   15610              Battery                          93   \n",
      "1   15919  Solar Photovoltaics                        0.17   \n",
      "2   11382  Solar Photovoltaics                        29.9   \n",
      "3   11383              Battery                          20   \n",
      "4   15068  Solar Photovoltaics                     0.22506   \n",
      "\n",
      "  Development Status (short)         Region Planning Permission Granted  \\\n",
      "0      Awaiting Construction          Wales         2024-04-08 00:00:00   \n",
      "1      Awaiting Construction  West Midlands                       45390   \n",
      "2      Awaiting Construction       Scotland         2024-04-03 00:00:00   \n",
      "3      Awaiting Construction       Scotland         2024-04-03 00:00:00   \n",
      "4      Awaiting Construction  West Midlands         2024-04-03 00:00:00   \n",
      "\n",
      "  Under Construction Operational  \n",
      "0                NaN         NaT  \n",
      "1                NaN         NaT  \n",
      "2                NaN         NaT  \n",
      "3                NaN         NaT  \n",
      "4                NaN         NaT  \n"
     ]
    }
   ],
   "source": [
    "print(filtered_df.head())"
   ]
  },
  {
   "cell_type": "code",
   "execution_count": 59,
   "id": "d21fb6a7-fa31-4640-9e47-075bdf531ae0",
   "metadata": {},
   "outputs": [
    {
     "name": "stderr",
     "output_type": "stream",
     "text": [
      "/var/folders/2w/hpz23rfj7l32vsh540rqdd_80000gn/T/ipykernel_35892/3115150816.py:2: SettingWithCopyWarning: \n",
      "A value is trying to be set on a copy of a slice from a DataFrame.\n",
      "Try using .loc[row_indexer,col_indexer] = value instead\n",
      "\n",
      "See the caveats in the documentation: https://pandas.pydata.org/pandas-docs/stable/user_guide/indexing.html#returning-a-view-versus-a-copy\n",
      "  filtered_df['Planning Permission Granted'] = pd.to_datetime(filtered_df['Planning Permission Granted'], errors='coerce')\n",
      "/var/folders/2w/hpz23rfj7l32vsh540rqdd_80000gn/T/ipykernel_35892/3115150816.py:3: SettingWithCopyWarning: \n",
      "A value is trying to be set on a copy of a slice from a DataFrame.\n",
      "Try using .loc[row_indexer,col_indexer] = value instead\n",
      "\n",
      "See the caveats in the documentation: https://pandas.pydata.org/pandas-docs/stable/user_guide/indexing.html#returning-a-view-versus-a-copy\n",
      "  filtered_df['Under Construction'] = pd.to_datetime(filtered_df['Under Construction'], errors='coerce')\n",
      "/var/folders/2w/hpz23rfj7l32vsh540rqdd_80000gn/T/ipykernel_35892/3115150816.py:4: SettingWithCopyWarning: \n",
      "A value is trying to be set on a copy of a slice from a DataFrame.\n",
      "Try using .loc[row_indexer,col_indexer] = value instead\n",
      "\n",
      "See the caveats in the documentation: https://pandas.pydata.org/pandas-docs/stable/user_guide/indexing.html#returning-a-view-versus-a-copy\n",
      "  filtered_df['Operational'] = pd.to_datetime(filtered_df['Operational'], errors='coerce')\n"
     ]
    }
   ],
   "source": [
    "# Convert the date columns to datetime format\n",
    "filtered_df['Planning Permission Granted'] = pd.to_datetime(filtered_df['Planning Permission Granted'], errors='coerce')\n",
    "filtered_df['Under Construction'] = pd.to_datetime(filtered_df['Under Construction'], errors='coerce')\n",
    "filtered_df['Operational'] = pd.to_datetime(filtered_df['Operational'], errors='coerce')\n"
   ]
  },
  {
   "cell_type": "code",
   "execution_count": 63,
   "id": "5da330a6-c881-4202-ade6-5e4aaf6e6539",
   "metadata": {},
   "outputs": [
    {
     "name": "stderr",
     "output_type": "stream",
     "text": [
      "/var/folders/2w/hpz23rfj7l32vsh540rqdd_80000gn/T/ipykernel_35892/3286315749.py:2: SettingWithCopyWarning: \n",
      "A value is trying to be set on a copy of a slice from a DataFrame.\n",
      "Try using .loc[row_indexer,col_indexer] = value instead\n",
      "\n",
      "See the caveats in the documentation: https://pandas.pydata.org/pandas-docs/stable/user_guide/indexing.html#returning-a-view-versus-a-copy\n",
      "  filtered_df['Time to Construction'] = filtered_df['Under Construction'] - filtered_df['Planning Permission Granted']\n",
      "/var/folders/2w/hpz23rfj7l32vsh540rqdd_80000gn/T/ipykernel_35892/3286315749.py:3: SettingWithCopyWarning: \n",
      "A value is trying to be set on a copy of a slice from a DataFrame.\n",
      "Try using .loc[row_indexer,col_indexer] = value instead\n",
      "\n",
      "See the caveats in the documentation: https://pandas.pydata.org/pandas-docs/stable/user_guide/indexing.html#returning-a-view-versus-a-copy\n",
      "  filtered_df['Time to Operation'] = filtered_df['Operational'] - filtered_df['Under Construction']\n"
     ]
    }
   ],
   "source": [
    "# Calculate the time differences\n",
    "filtered_df['Time to Construction'] = filtered_df['Under Construction'] - filtered_df['Planning Permission Granted']\n",
    "filtered_df['Time to Operation'] = filtered_df['Operational'] - filtered_df['Under Construction']"
   ]
  },
  {
   "cell_type": "code",
   "execution_count": 65,
   "id": "45ab4e3a-dd70-45ec-b036-2e7d70599f28",
   "metadata": {},
   "outputs": [],
   "source": [
    "# Calculate the average times\n",
    "avg_time_to_construction = filtered_df['Time to Construction'].mean()\n",
    "avg_time_to_operation = filtered_df['Time to Operation'].mean()\n"
   ]
  },
  {
   "cell_type": "code",
   "execution_count": 69,
   "id": "9a7eec59-3906-4043-8030-0f22dd6fd060",
   "metadata": {},
   "outputs": [
    {
     "name": "stdout",
     "output_type": "stream",
     "text": [
      "Average Time from Planning Permission Granted to Under Construction: 558 days 08:42:12.899022800\n",
      "Average Time from Under Construction to Operational: 269 days 09:11:34.994892748\n"
     ]
    }
   ],
   "source": [
    "print(f\"Average Time from Planning Permission Granted to Under Construction: {avg_time_to_construction}\")\n",
    "print(f\"Average Time from Under Construction to Operational: {avg_time_to_operation}\")\n"
   ]
  },
  {
   "cell_type": "code",
   "execution_count": 71,
   "id": "90cbaab2-2062-49ff-9444-5ced829c2fe1",
   "metadata": {},
   "outputs": [],
   "source": [
    "# Filter by Region to South West\n",
    "south_west_df = filtered_df[filtered_df['Region'] == 'South West'].copy()\n",
    "\n",
    "# Filter by 'Development Status (short)'\n",
    "south_west_filtered_df = south_west_df[south_west_df['Development Status (short)'].isin(['Awaiting Construction', 'Under Construction'])]\n"
   ]
  },
  {
   "cell_type": "code",
   "execution_count": 73,
   "id": "9f838132-a25f-495f-84be-9fff3be33466",
   "metadata": {},
   "outputs": [
    {
     "name": "stdout",
     "output_type": "stream",
     "text": [
      "Total Installed Capacity for all Renewables (South West, Awaiting Construction): 3457.965955 MWelec\n",
      "Total Installed Capacity for Renewables (South West, Under Construction): 391.09735000000006 MWelec\n"
     ]
    }
   ],
   "source": [
    "# Calculate the sum of 'Installed Capacity (MWelec)' for each group and status\n",
    "awaiting_construction_capacity = south_west_filtered_df[south_west_filtered_df['Development Status (short)'] == 'Awaiting Construction']['Installed Capacity (MWelec)'].sum()\n",
    "under_construction_capacity = south_west_filtered_df[south_west_filtered_df['Development Status (short)'] == 'Under Construction']['Installed Capacity (MWelec)'].sum()\n",
    "\n",
    "# Display the results\n",
    "print(f\"Total Installed Capacity for all Renewables (South West, Awaiting Construction): {awaiting_construction_capacity} MWelec\")\n",
    "print(f\"Total Installed Capacity for Renewables (South West, Under Construction): {under_construction_capacity} MWelec\")\n"
   ]
  },
  {
   "cell_type": "code",
   "execution_count": 77,
   "id": "6c244303-c024-4382-b4a7-fec1a77a61a7",
   "metadata": {},
   "outputs": [
    {
     "name": "stdout",
     "output_type": "stream",
     "text": [
      "Total Installed Capacity (South West, Operational 2024): 3613.951119999999 MWelec\n"
     ]
    }
   ],
   "source": [
    "south_west_operational = south_west_df[south_west_df['Development Status (short)'] == 'Operational']['Installed Capacity (MWelec)'].sum()\n",
    "\n",
    "# Display the results\n",
    "print(f\"Total Installed Capacity (South West, Operational 2024): {south_west_operational} MWelec\")\n"
   ]
  },
  {
   "cell_type": "markdown",
   "id": "6bffee78-66ec-4eb2-a2a6-7b0fb2a6c62e",
   "metadata": {},
   "source": [
    "## Weighted Average Load Factor"
   ]
  },
  {
   "cell_type": "code",
   "execution_count": 89,
   "id": "1a3088dd-d50a-417d-b76c-4ba84189e9e1",
   "metadata": {},
   "outputs": [],
   "source": [
    "# Load the dataset\n",
    "file_path = '/Users/jordannelson/Documents/OneDrive - UWE Bristol Merla Pumffrey/Masters Project/Data/Department for Energy Security and Net Zero Regional Data/SW all data cleaned.xlsx'\n",
    "\n",
    "#Read each sheet of the excel file\n",
    "capacity_df = pd.read_excel(file_path, sheet_name='Installed Capacity (MW)')\n",
    "uc_lf_df = pd.read_excel(file_path, sheet_name='UC LF')"
   ]
  },
  {
   "cell_type": "code",
   "execution_count": 91,
   "id": "a1a8e604-a70c-433e-b2da-ab93288fc296",
   "metadata": {},
   "outputs": [],
   "source": [
    "# Filter data for the year 2022\n",
    "capacity_2022 = capacity_df[capacity_df['Year'] == 2022]\n",
    "uc_lf_2022 = uc_lf_df[uc_lf_df['Year'] == 2022]"
   ]
  },
  {
   "cell_type": "code",
   "execution_count": 99,
   "id": "03d82844-e79f-4e1b-829e-f48e25539fdc",
   "metadata": {},
   "outputs": [
    {
     "data": {
      "text/html": [
       "<div>\n",
       "<style scoped>\n",
       "    .dataframe tbody tr th:only-of-type {\n",
       "        vertical-align: middle;\n",
       "    }\n",
       "\n",
       "    .dataframe tbody tr th {\n",
       "        vertical-align: top;\n",
       "    }\n",
       "\n",
       "    .dataframe thead th {\n",
       "        text-align: right;\n",
       "    }\n",
       "</style>\n",
       "<table border=\"1\" class=\"dataframe\">\n",
       "  <thead>\n",
       "    <tr style=\"text-align: right;\">\n",
       "      <th></th>\n",
       "      <th>Year</th>\n",
       "      <th>Onshore Wind</th>\n",
       "      <th>Solar PV</th>\n",
       "      <th>Hydro</th>\n",
       "      <th>Landfill gas</th>\n",
       "      <th>Sewage gas</th>\n",
       "      <th>AD</th>\n",
       "      <th>Biomass and waste</th>\n",
       "      <th>Total</th>\n",
       "    </tr>\n",
       "  </thead>\n",
       "  <tbody>\n",
       "    <tr>\n",
       "      <th>14</th>\n",
       "      <td>2022</td>\n",
       "      <td>340.460599</td>\n",
       "      <td>3429.63485</td>\n",
       "      <td>10.6</td>\n",
       "      <td>105.724</td>\n",
       "      <td>15.282</td>\n",
       "      <td>64.267</td>\n",
       "      <td>223.539</td>\n",
       "      <td>4189.507449</td>\n",
       "    </tr>\n",
       "  </tbody>\n",
       "</table>\n",
       "</div>"
      ],
      "text/plain": [
       "    Year  Onshore Wind    Solar PV  Hydro  Landfill gas  Sewage gas      AD  \\\n",
       "14  2022    340.460599  3429.63485   10.6       105.724      15.282  64.267   \n",
       "\n",
       "    Biomass and waste        Total  \n",
       "14            223.539  4189.507449  "
      ]
     },
     "execution_count": 99,
     "metadata": {},
     "output_type": "execute_result"
    }
   ],
   "source": [
    "capacity_2022"
   ]
  },
  {
   "cell_type": "code",
   "execution_count": 107,
   "id": "040aabbc-9be9-4f36-b4dd-b80d380aedef",
   "metadata": {},
   "outputs": [
    {
     "name": "stdout",
     "output_type": "stream",
     "text": [
      "Weighted Average Load Factor for 2022: 16.7279\n"
     ]
    }
   ],
   "source": [
    "# Energy types\n",
    "energy_types = ['Biomass and waste', 'AD', \n",
    "                'Landfill gas', 'Solar PV', 'Hydro', 'Onshore Wind', \n",
    "                'Sewage gas']\n",
    "\n",
    "# Calculate the total capacity\n",
    "total_capacity = capacity_2022[energy_types].sum().sum()\n",
    "\n",
    "# Calculate the weighted average load factor\n",
    "weighted_average_load_factor = sum(\n",
    "        (uc_lf_2022[etype].iloc[0] * (capacity_2022[etype].iloc[0] / total_capacity)) for etype in energy_types)\n",
    "print(f\"Weighted Average Load Factor for 2022: {weighted_average_load_factor:.4f}\")\n"
   ]
  },
  {
   "cell_type": "code",
   "execution_count": null,
   "id": "4ae7eddd-21d0-41fe-808d-5f815b0d204a",
   "metadata": {},
   "outputs": [],
   "source": []
  }
 ],
 "metadata": {
  "kernelspec": {
   "display_name": "Python 3 (ipykernel)",
   "language": "python",
   "name": "python3"
  },
  "language_info": {
   "codemirror_mode": {
    "name": "ipython",
    "version": 3
   },
   "file_extension": ".py",
   "mimetype": "text/x-python",
   "name": "python",
   "nbconvert_exporter": "python",
   "pygments_lexer": "ipython3",
   "version": "3.11.4"
  }
 },
 "nbformat": 4,
 "nbformat_minor": 5
}
